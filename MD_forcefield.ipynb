{
 "cells": [
  {
   "cell_type": "code",
   "execution_count": 1,
   "id": "7912a26a",
   "metadata": {},
   "outputs": [],
   "source": [
    "import numpy as np\n",
    "import scipy\n",
    "import matplotlib.pyplot as plt\n",
    "from functions_SqRA import grid1, adjancency_matrix_sparse, build_Qo\n",
    "\n",
    "font = {'size' : 10}\n",
    "plt.rc('font', **font)\n",
    "in2cm = 1/2.54  # centimeters in inches"
   ]
  },
  {
   "cell_type": "markdown",
   "id": "4ab2f715",
   "metadata": {},
   "source": [
    "## System parameters"
   ]
  },
  {
   "cell_type": "code",
   "execution_count": 2,
   "id": "cd30a666",
   "metadata": {},
   "outputs": [],
   "source": [
    "kB     = 0.008314463                 # kJ mol-1 K\n",
    "T      = 300                         # K\n",
    "mass   = 1                           # amu mol-1 (same mass for each atom)\n",
    "gamma  = 1                           # ps-1 \n",
    "D      = kB * T / mass / gamma       # nm2 ps-1\n",
    "sigma  = np.sqrt(2 * D)              # nm ps-1/2\n",
    "beta   = 1 / kB / T                  # kJ-1 mol "
   ]
  },
  {
   "cell_type": "markdown",
   "id": "26689a40",
   "metadata": {},
   "source": [
    "## Forcefield"
   ]
  },
  {
   "cell_type": "code",
   "execution_count": 3,
   "id": "9555417f",
   "metadata": {},
   "outputs": [],
   "source": [
    "def Vbond(X, i, j, par_bonds):\n",
    "    rij      = X[:,i] - X[:,j]\n",
    "    norm_rij = np.sqrt( np.sum( rij ** 2 ) )\n",
    "    \n",
    "    return 0.5 * par_bonds[0] * ( norm_rij - par_bonds[1] ) ** 2\n",
    "\n",
    "def Vangle(X, i, j, k, par_angles):\n",
    "    ri_x = X[0,i]\n",
    "    ri_y = X[1,i]\n",
    "    ri_z = X[2,i]\n",
    "\n",
    "    ri   =  np.array([ri_x, ri_y, ri_z])\n",
    "\n",
    "    rj_x = X[0,j]\n",
    "    rj_y = X[1,j]\n",
    "    rj_z = X[2,j]\n",
    "    \n",
    "    rj   =  np.array([rj_x, rj_y, rj_z])\n",
    "\n",
    "    rk_x = X[0,k]\n",
    "    rk_y = X[1,k]\n",
    "    rk_z = X[2,k]\n",
    "\n",
    "    rk   =  np.array([rk_x, rk_y, rk_z])\n",
    "\n",
    "    rij  = ri - rj\n",
    "    rkj  = rk - rj\n",
    "\n",
    "    norm_rij = np.sqrt( np.sum( rij ** 2 ) )\n",
    "    norm_rkj = np.sqrt( np.sum( rkj ** 2 ) )\n",
    "    \n",
    "    theta_ijk = np.arccos( np.dot(rij,rkj) / ( norm_rij * norm_rkj ) )\n",
    "    \n",
    "    return 0.5 * par_angles[0] * ( theta_ijk - par_angles[1] ) ** 2\n",
    "\n",
    "def Vdihedral(X, i, j, k, l, par_dihedrals):\n",
    "    \"\"\"Praxeolitic formula\n",
    "    1 sqrt, 1 cross product\"\"\"\n",
    "    p0 = X[:,i]\n",
    "    p1 = X[:,j]\n",
    "    p2 = X[:,k]\n",
    "    p3 = X[:,l]\n",
    "\n",
    "    b0 = -1.0*(p1 - p0)\n",
    "    b1 = p2 - p1\n",
    "    b2 = p3 - p2\n",
    "\n",
    "    # normalize b1 so that it does not influence magnitude of vector\n",
    "    # rejections that come next\n",
    "    b1 /= np.linalg.norm(b1)\n",
    "\n",
    "    # vector rejections\n",
    "    # v = projection of b0 onto plane perpendicular to b1\n",
    "    #   = b0 minus component that aligns with b1\n",
    "    # w = projection of b2 onto plane perpendicular to b1\n",
    "    #   = b2 minus component that aligns with b1\n",
    "    v = b0 - np.dot(b0, b1)*b1\n",
    "    w = b2 - np.dot(b2, b1)*b1\n",
    "\n",
    "    # angle between v and w in a plane is the torsion angle\n",
    "    # v and w may not be normalized but that's fine since tan is y/x\n",
    "    x = np.dot(v, w)\n",
    "    y = np.dot(np.cross(b1, v), w)\n",
    "    \n",
    "    psi = np.degrees(np.arctan2(y, x))\n",
    "    \n",
    "    return par_dihedrals[0] * np.cos( par_dihedrals[1] * psi + par_dihedrals[2] ), psi\n",
    "\n",
    "def Vcoulomb(X, i, j, q, par_coulomb):\n",
    "    rij      = X[:,i] - X[:,j]\n",
    "    norm_rij = np.sqrt( np.sum( rij ** 2 ) )\n",
    "    \n",
    "    return par_coulomb ** 2 * q[i] * q[j] / norm_rij\n",
    "\n",
    "def Vlj(X, i, j, par_lj):\n",
    "    rij      = X[:,i] - X[:,j]\n",
    "    norm_rij = np.sqrt( np.sum( rij ** 2 ) )\n",
    "\n",
    "    return par_lj[0] * ( par_lj[1] / norm_rij ) ** 12 - 2 * par_lj[0] * ( par_lj[1] / norm_rij ) ** 6"
   ]
  },
  {
   "cell_type": "markdown",
   "id": "702da049",
   "metadata": {},
   "source": [
    "## Forcefield parameters"
   ]
  },
  {
   "cell_type": "code",
   "execution_count": 4,
   "id": "16787a25",
   "metadata": {},
   "outputs": [],
   "source": [
    "# Bond parameters\n",
    "kb        = 1\n",
    "r0        = 0.5\n",
    "par_bonds = np.array([kb, r0])\n",
    "\n",
    "# Angle parameters\n",
    "ka         = 1\n",
    "theta0     = np.pi / 3\n",
    "par_angles = np.array([ka, theta0])\n",
    "\n",
    "# Dihedral parameters\n",
    "kd             = 1\n",
    "periodicity    = 2\n",
    "psi0           = np.pi / 3\n",
    "par_dihedrals  = np.array([kd, periodicity, psi0])\n",
    "\n",
    "# Coulomb parameters\n",
    "kele        = 1\n",
    "par_coulomb = kele\n",
    "q           = np.array([+1, 0, 0, 0, -1])\n",
    "\n",
    "# LJ parameters\n",
    "eps        = 1\n",
    "req        = 3\n",
    "par_lj  = np.array([eps, req])"
   ]
  },
  {
   "cell_type": "markdown",
   "id": "d371a6ec",
   "metadata": {},
   "source": [
    "## Molecule parameters"
   ]
  },
  {
   "cell_type": "code",
   "execution_count": 5,
   "id": "8687cc2b",
   "metadata": {},
   "outputs": [],
   "source": [
    "# Number of atoms\n",
    "Na = 5\n",
    "\n",
    "# Number of dimensions per atom\n",
    "Nd = 3\n",
    "\n",
    "# Total number of dimensions\n",
    "N  = Na * Nd\n",
    "\n",
    "# Number of bonds, angles, dihedrals\n",
    "Nbonds     = 4\n",
    "Nangles    = 3\n",
    "Ndihedrals = 2\n",
    "\n",
    "# bonds, angles, dihedrals\n",
    "bonds      = np.array([[0,1], [1,2], [2,3], [3,4]])\n",
    "angles     = np.array([[0,1,2], [1,2,3], [2,3,4]])\n",
    "dihedrals  = np.array([[0,1,2,3], [1,2,3,4]])"
   ]
  },
  {
   "cell_type": "markdown",
   "id": "548a7858",
   "metadata": {},
   "source": [
    "## System 1\n",
    "\n",
    "Atom 1 moves in the space $(x,y,z)$.\n",
    "\n",
    "Atom 2 moves on the plane $(x,y)$.\n",
    "\n",
    "Atom 3 is fixed at the origin.\n",
    "\n",
    "Atom 4 is fixed at some point $(\\hat{x}_4, \\hat{y}_4)$ on the plane $(x,y)$.\n",
    "\n",
    "$$\n",
    "\\begin{pmatrix}\n",
    "x_1, y_1, z_1 \\\\\n",
    "x_2, y_2, 0 \\\\\n",
    "0, 0, 0  \\\\\n",
    "\\hat{x}_4, \\hat{y}_4, 0\n",
    "\\end{pmatrix}\n",
    "$$\n",
    "$12\\rightarrow 5$ Degrees Of Freedoms (DOFs).\n"
   ]
  },
  {
   "cell_type": "code",
   "execution_count": 6,
   "id": "a3a701ba",
   "metadata": {},
   "outputs": [
    {
     "name": "stdout",
     "output_type": "stream",
     "text": [
      "100000\n"
     ]
    },
    {
     "data": {
      "image/png": "[encoded data removed]",
      "text/plain": [
       "<Figure size 826.772x236.22 with 1 Axes>"
      ]
     },
     "metadata": {},
     "output_type": "display_data"
    }
   ],
   "source": [
    "# Number of DOFs\n",
    "Nd1 = 5\n",
    "\n",
    "# Number of bins per each dimension + 1\n",
    "Nx1 = 11\n",
    "\n",
    "\n",
    "# One dimensional grid\n",
    "a = 1.5\n",
    "xcenters, xedges, xbins, dx = grid1(-a, a, Nx1)\n",
    "bins1 = np.array([xbins, xbins, xbins, xbins, xbins])\n",
    "flux1 = np.array([D/dx**2, D/dx**2, D/dx**2, D/dx**2, D/dx**2])\n",
    "\n",
    "# Total number of bins / configurations\n",
    "Nbins1 = np.prod(bins1)\n",
    "print(Nbins1)\n",
    "\n",
    "# 5-dimensional grid\n",
    "grid = np.meshgrid(xcenters, xcenters, xcenters, xcenters, xcenters)\n",
    "\n",
    "# grid contains all the possible configurations in a 5-dimensional hyper cube\n",
    "# Add zeros coordinates \n",
    "X1  = np.array([[grid[0].flatten('C'), \\\n",
    "                 grid[1].flatten('C'), \\\n",
    "                 grid[2].flatten('C')],\\\n",
    "                [grid[3].flatten('C'), \\\n",
    "                 grid[4].flatten('C'), \\\n",
    "                 np.zeros(Nbins1)],  \\\n",
    "                [np.zeros(Nbins1),   \\\n",
    "                 np.zeros(Nbins1),   \\\n",
    "                 np.zeros(Nbins1)],\n",
    "                [np.zeros(Nbins1),   \\\n",
    "                 np.ones(Nbins1),   \\\n",
    "                 np.zeros(Nbins1)]]).T\n",
    "\n",
    "## Figure\n",
    "fig = plt.figure(figsize=(21*in2cm, 6*in2cm))\n",
    "\n",
    "ax = fig.add_subplot(1, 1, 1, projection='3d')\n",
    "\n",
    "# Configuration\n",
    "n = np.random.randint(0, Nbins1)\n",
    "\n",
    "ax.plot3D([X1[n][0,0], X1[n][0,1]], [X1[n][1,0], X1[n][1,1]], [X1[n][2,0],X1[n][2,1]], 'k-')\n",
    "ax.plot3D([X1[n][0,1], X1[n][0,2]], [X1[n][1,1], X1[n][1,2]], [X1[n][2,1],X1[n][2,2]], 'k-')\n",
    "ax.plot3D([X1[n][0,2], X1[n][0,3]], [X1[n][1,2], X1[n][1,3]], [X1[n][2,2],X1[n][2,3]], 'k-')\n",
    "\n",
    "ax.plot3D(X1[n][0,0],X1[n][1,0],X1[n][2,0], 'bo')\n",
    "ax.plot3D(X1[n][0,1],X1[n][1,1],X1[n][2,1], 'bo')\n",
    "ax.plot3D(X1[n][0,2],X1[n][1,2],X1[n][2,2], 'ro')\n",
    "ax.plot3D(X1[n][0,3],X1[n][1,3],X1[n][2,3], 'ro')\n",
    "\n",
    "\n",
    "ax.set_title('System 1 3D')\n",
    "ax.set_aspect('auto', 'box')\n",
    "ax.set_xlabel('x')\n",
    "ax.set_ylabel('y')\n",
    "ax.set_zlabel('z')\n",
    "ax.set_xlim([-5,5])\n",
    "ax.set_ylim([-5,5])\n",
    "ax.set_zlim([-5,5])\n",
    "ax.view_init(20,-0)\n",
    "\n",
    "plt.subplots_adjust(left=0, bottom=0, right=1, top=1, wspace=0.5, hspace=0)\n",
    "#fig.savefig('par5_1.png', format='png', dpi=900, bbox_inches='tight')"
   ]
  },
  {
   "cell_type": "code",
   "execution_count": 7,
   "id": "a42dc8bf",
   "metadata": {},
   "outputs": [
    {
     "data": {
      "text/plain": [
       "(100000, 3, 4)"
      ]
     },
     "execution_count": 7,
     "metadata": {},
     "output_type": "execute_result"
    }
   ],
   "source": [
    "X1.shape"
   ]
  },
  {
   "cell_type": "markdown",
   "id": "0c55562b",
   "metadata": {},
   "source": [
    "## System 2\n",
    "\n",
    "Atom 2 is fixed at some points $(\\hat{x}_2, \\hat{y}_2, 0)$.\n",
    "\n",
    "Atom 3 is fixed.\n",
    "\n",
    "Atom 4 can move along the axis $(0,y,0)$.\n",
    "\n",
    "Atom 5 can in the space $(x,y,z)$.\n",
    "\n",
    "$$\n",
    "\\begin{pmatrix}\n",
    "\\hat{x}_2, \\hat{y}_2, 0 \\\\\n",
    "0, 0, 0 \\\\\n",
    "0, y_4, 0 \\\\\n",
    "x_3, y_3, z_3 \n",
    "\\end{pmatrix}\n",
    "$$\n",
    "$12\\rightarrow 4$ DOFs.\n"
   ]
  },
  {
   "cell_type": "code",
   "execution_count": 30,
   "id": "17a80539",
   "metadata": {},
   "outputs": [
    {
     "name": "stdout",
     "output_type": "stream",
     "text": [
      "10000\n"
     ]
    },
    {
     "data": {
      "image/png": "[encoded data removed]",
      "text/plain": [
       "<Figure size 826.772x236.22 with 1 Axes>"
      ]
     },
     "metadata": {},
     "output_type": "display_data"
    }
   ],
   "source": [
    "# Number of DOFs\n",
    "Nd2 = 4\n",
    "\n",
    "# Number of bins per each dimension + 1\n",
    "Nx2 = 11\n",
    "\n",
    "# One dimensional grid\n",
    "#a = 1/5\n",
    "xcenters, xedges, xbins, dx = grid1(-a, a, Nx2)\n",
    "bins2 = np.array([xbins, xbins, xbins, xbins])\n",
    "flux2 = np.array([D/dx**2, D/dx**2, D/dx**2, D/dx**2])\n",
    "\n",
    "# Total number of bins / configurations\n",
    "Nbins2 = np.prod(bins2)\n",
    "print(Nbins2)\n",
    "\n",
    "# 4-dimensional grid\n",
    "grid = np.meshgrid(xcenters, xcenters, xcenters, xcenters)\n",
    "\n",
    "\n",
    "# grid contains all the possible configurations in a 4-dimensional hyper cube\n",
    "# Add zeros coordinates\n",
    "X2  = np.array([[ 0.77*np.ones(xbins**4),   \\\n",
    "                 np.zeros(xbins**4),   \\\n",
    "                 np.zeros(xbins**4)],  \\\n",
    "                [np.zeros(xbins**4),   \\\n",
    "                 np.zeros(xbins**4),   \\\n",
    "                 np.zeros(xbins**4)],  \\\n",
    "                [np.zeros(xbins**4),   \\\n",
    "                 grid[0].flatten('C'), \\\n",
    "                 np.zeros(xbins**4)],  \\\n",
    "                [grid[1].flatten('C'), \\\n",
    "                 grid[2].flatten('C'), \\\n",
    "                 grid[3].flatten('C')]]).T\n",
    "\n",
    "\n",
    "# Figure\n",
    "fig = plt.figure(figsize=(21*in2cm, 6*in2cm))\n",
    "\n",
    "ax = fig.add_subplot(1, 1, 1, projection='3d')\n",
    "\n",
    "\n",
    "# Configuration\n",
    "n = np.random.randint(0, Nbins2)\n",
    "\n",
    "\n",
    "ax.plot3D([X2[n][0,0], X2[n][0,1]], [X2[n][1,0], X2[n][1,1]], [X2[n][2,0],X2[n][2,1]], 'k-')\n",
    "ax.plot3D([X2[n][0,1], X2[n][0,2]], [X2[n][1,1], X2[n][1,2]], [X2[n][2,1],X2[n][2,2]], 'k-')\n",
    "ax.plot3D([X2[n][0,2], X2[n][0,3]], [X2[n][1,2], X2[n][1,3]], [X2[n][2,2],X2[n][2,3]], 'k-')\n",
    "\n",
    "ax.plot3D(X2[n][0,0],X2[n][1,0],X2[n][2,0], 'ro')\n",
    "ax.plot3D(X2[n][0,1],X2[n][1,1],X2[n][2,1], 'ro')\n",
    "ax.plot3D(X2[n][0,2],X2[n][1,2],X2[n][2,2], 'go')\n",
    "ax.plot3D(X2[n][0,3],X2[n][1,3],X2[n][2,3], 'go')\n",
    "\n",
    "ax.set_title('System 2 3D')\n",
    "ax.set_aspect('auto', 'box')\n",
    "ax.set_xlabel('x')\n",
    "ax.set_ylabel('y')\n",
    "ax.set_zlabel('z')\n",
    "ax.set_xlim([-5,5])\n",
    "ax.set_ylim([-5,5])\n",
    "ax.set_zlim([-5,5])\n",
    "ax.view_init(0,-90)\n",
    "\n",
    "plt.subplots_adjust(left=0, bottom=0, right=1, top=1, wspace=0.5, hspace=0)\n",
    "#fig.savefig('par5_1.png', format='png', dpi=900, bbox_inches='tight')"
   ]
  },
  {
   "cell_type": "markdown",
   "id": "c5ad6195",
   "metadata": {},
   "source": [
    "## Energy of the systems"
   ]
  },
  {
   "cell_type": "code",
   "execution_count": 32,
   "id": "394e0588",
   "metadata": {},
   "outputs": [],
   "source": [
    "V1 = np.zeros(Nbins1)\n",
    "\n",
    "\n",
    "for c in range(Nbins1):\n",
    "\n",
    "    for n in np.arange(0,2):\n",
    "        V1[c] += Vbond(X1[c], bonds[n,0], bonds[n,1], par_bonds)\n",
    "\n",
    "    for n in np.arange(0,2):\n",
    "        V1[c] += Vangle(X1[c], angles[n,0], angles[n,1], angles[n,2], par_angles)\n",
    "\n",
    "    V1[c] += Vdihedral(X1[c], dihedrals[0,0], dihedrals[0,1], dihedrals[0,2], dihedrals[0,3], par_dihedrals)[0]"
   ]
  },
  {
   "cell_type": "code",
   "execution_count": 43,
   "id": "917dc2bf",
   "metadata": {},
   "outputs": [
    {
     "name": "stdout",
     "output_type": "stream",
     "text": [
      "0.0012499999999999968\n",
      "0.765562232290733\n",
      "1.0086366816716283\n",
      "1.9049126717452238\n"
     ]
    }
   ],
   "source": [
    "V2 = np.zeros(Nbins2)\n",
    "check = 321\n",
    "for c in range(Nbins2):\n",
    "\n",
    "    for n in np.arange(1,3):\n",
    "        V2[c] += Vbond(X2[c], bonds[n,0], bonds[n,1], par_bonds)\n",
    "        if c == check:\n",
    "            print(V2[check])\n",
    "\n",
    "    for n in np.arange(1,2):\n",
    "        V2[c] += Vangle(X2[c], angles[n,0], angles[n,1], angles[n,2], par_angles)\n",
    "        if c == check:\n",
    "            print(V2[check])\n",
    "\n",
    "    V2[c] += Vdihedral(X2[c], dihedrals[0,0], dihedrals[0,1], dihedrals[0,2], dihedrals[0,3], par_dihedrals)[0]\n",
    "\n",
    "print(V2[check])"
   ]
  },
  {
   "cell_type": "markdown",
   "id": "5dbe509a",
   "metadata": {},
   "source": [
    "## Boltzmann weights"
   ]
  },
  {
   "cell_type": "code",
   "execution_count": 47,
   "id": "71e5a2e8",
   "metadata": {},
   "outputs": [
    {
     "name": "stdout",
     "output_type": "stream",
     "text": [
      "0\n",
      "0\n"
     ]
    }
   ],
   "source": [
    "NanConfs1 = np.isnan(V1)\n",
    "print(np.sum(NanConfs1))\n",
    "NanConfs2 = np.isnan(V2)\n",
    "print(np.sum(NanConfs2))\n",
    "\n",
    "w1 = np.exp( - beta * V1 )\n",
    "w1[NanConfs1] = 0.0\n",
    "\n",
    "w2 = np.exp( - beta * V2 )\n",
    "w2[NanConfs2] = 0.0"
   ]
  },
  {
   "cell_type": "code",
   "execution_count": 61,
   "id": "2c2a191e",
   "metadata": {},
   "outputs": [
    {
     "data": {
      "text/plain": [
       "array([15.99398488, 15.0893824 , 23.05746107, ..., 17.75312939,\n",
       "       23.85643573, 18.86068212])"
      ]
     },
     "execution_count": 61,
     "metadata": {},
     "output_type": "execute_result"
    }
   ],
   "source": [
    "flux1[0] * np.sqrt(w1)"
   ]
  },
  {
   "cell_type": "markdown",
   "id": "170ec4b6",
   "metadata": {},
   "source": [
    "## Adjacency matrices"
   ]
  },
  {
   "cell_type": "code",
   "execution_count": 49,
   "id": "2901e0fb",
   "metadata": {},
   "outputs": [],
   "source": [
    "A1    = adjancency_matrix_sparse(bins1, flux1, periodic=False)\n",
    "A2    = adjancency_matrix_sparse(bins2, flux2, periodic=False)"
   ]
  },
  {
   "cell_type": "markdown",
   "id": "d9ee522c",
   "metadata": {},
   "source": [
    "## SqRA"
   ]
  },
  {
   "cell_type": "code",
   "execution_count": 50,
   "id": "f0b2c506",
   "metadata": {},
   "outputs": [],
   "source": [
    "Qo1 = build_Qo(w1, A1, Nbins1)[0]  # build_Qo: return Dinv *  A * Di, Dinv, Di\n",
    "Qo2 = build_Qo(w2, A2, Nbins2)[0]  \n",
    "\n",
    "#np.nan_to_num(Qo1.data, copy=False)\n",
    "Qo1.data[np.isinf(Qo1.data)] = 0.0\n",
    "Qo2.data[np.isinf(Qo2.data)] = 0.0"
   ]
  },
  {
   "cell_type": "code",
   "execution_count": 62,
   "id": "3d44a53e",
   "metadata": {},
   "outputs": [
    {
     "data": {
      "text/plain": [
       "<100000x100000 sparse matrix of type '<class 'numpy.float64'>'\n",
       "\twith 900000 stored elements in Compressed Sparse Row format>"
      ]
     },
     "execution_count": 62,
     "metadata": {},
     "output_type": "execute_result"
    }
   ],
   "source": [
    "Qo1"
   ]
  },
  {
   "cell_type": "markdown",
   "id": "12ab89b7",
   "metadata": {},
   "source": [
    "## E matrices"
   ]
  },
  {
   "cell_type": "code",
   "execution_count": 51,
   "id": "0f533ce8",
   "metadata": {},
   "outputs": [],
   "source": [
    "E1 = scipy.sparse.spdiags( Qo1.sum(axis=1).T, 0, Nbins1, Nbins1 )\n",
    "E2 = scipy.sparse.spdiags( Qo2.sum(axis=1).T, 0, Nbins2, Nbins2 )"
   ]
  },
  {
   "cell_type": "markdown",
   "id": "92c9e345",
   "metadata": {},
   "source": [
    "## Rate matrices"
   ]
  },
  {
   "cell_type": "code",
   "execution_count": 52,
   "id": "784aaff6",
   "metadata": {},
   "outputs": [],
   "source": [
    "Q1     = Qo1 - E1 \n",
    "Q2     = Qo2 - E2 \n",
    "\n",
    "Nbins = Nbins1 * Nbins2\n",
    "#evecs = np.zeros((Nbins, 14))"
   ]
  },
  {
   "cell_type": "markdown",
   "id": "9fd8ace0",
   "metadata": {},
   "source": [
    "## Eigenvalues and eigenvectors"
   ]
  },
  {
   "cell_type": "code",
   "execution_count": 53,
   "id": "050511f4",
   "metadata": {},
   "outputs": [],
   "source": [
    "evals1, evecs1 = scipy.sparse.linalg.eigs(Q1, 4, which='LR')\n",
    "evals2, evecs2 = scipy.sparse.linalg.eigs(Q2, 4, which='LR')"
   ]
  },
  {
   "cell_type": "code",
   "execution_count": 54,
   "id": "69d56331",
   "metadata": {},
   "outputs": [
    {
     "name": "stderr",
     "output_type": "stream",
     "text": [
      "/tmp/ipykernel_362898/1480343371.py:8: ComplexWarning: Casting complex values to real discards the imaginary part\n",
      "  evals[k]     = evals1[j] + evals2[i]\n"
     ]
    },
    {
     "data": {
      "text/plain": [
       "'evecs = np.zeros((Nbins, 4), dtype=np.float32)\\n\\nk = 0\\nfor i in range(2):\\n    for j in range(2):\\n        evecs[:,k]   = np.diag(                                      scipy.sparse.kron( scipy.sparse.spdiags( np.real(evecs1[:,i]), 0, Nbins1, Nbins1 ) ,                                                         scipy.sparse.spdiags( np.real(evecs2[:,j]), 0, Nbins2, Nbins2 )                                                         ).toarray()\\n                              )\\n        k = k + 1\\n'"
      ]
     },
     "execution_count": 54,
     "metadata": {},
     "output_type": "execute_result"
    }
   ],
   "source": [
    "# Kronecker product / sum rules to estimate eigenvalues/eigenvectors of the full system\n",
    "evals = np.zeros(16)\n",
    "\n",
    "k = 0\n",
    "for i in range(4):\n",
    "    for j in range(4):\n",
    "\n",
    "        evals[k]     = evals1[j] + evals2[i]\n",
    "        k = k + 1\n",
    "        \n",
    "        \n",
    "# Unable to allocate 142. PiB for an array with shape (100000000, 100000000) and data type complex128 \n",
    "\"\"\"evecs = np.zeros((Nbins, 4), dtype=np.float32)\n",
    "\n",
    "k = 0\n",
    "for i in range(2):\n",
    "    for j in range(2):\n",
    "        evecs[:,k]   = np.diag( \\\n",
    "                                     scipy.sparse.kron( scipy.sparse.spdiags( np.real(evecs1[:,i]), 0, Nbins1, Nbins1 ) , \\\n",
    "                                                        scipy.sparse.spdiags( np.real(evecs2[:,j]), 0, Nbins2, Nbins2 )   \\\n",
    "                                                      ).toarray()\n",
    "                              )\n",
    "        k = k + 1\n",
    "\"\"\""
   ]
  },
  {
   "cell_type": "code",
   "execution_count": 55,
   "id": "df2532ec",
   "metadata": {},
   "outputs": [
    {
     "name": "stderr",
     "output_type": "stream",
     "text": [
      "/home/htc/bzfsikor/code/tsqra/lib/python3.9/site-packages/matplotlib/cbook/__init__.py:1340: ComplexWarning: Casting complex values to real discards the imaginary part\n",
      "  return np.asarray(x, float)\n"
     ]
    },
    {
     "data": {
      "image/png": "[encoded data removed]",
      "text/plain": [
       "<Figure size 393.701x314.961 with 1 Axes>"
      ]
     },
     "metadata": {},
     "output_type": "display_data"
    }
   ],
   "source": [
    "# Figure\n",
    "fig = plt.figure(figsize=(10*in2cm, 8*in2cm))\n",
    "\n",
    "ax = fig.add_subplot(1,1, 1)\n",
    "\n",
    "ax.plot(evals1, 'bs',   label = r\"$Q_1$\")\n",
    "ax.plot(evals2, 'rs',   label = r\"$Q_2$\")\n",
    "ax.plot(-np.sort(-evals),  'g.', label = r\"$Q_1 \\oplus Q_2$\")\n",
    "ax.set_xticks(np.arange(0,16))\n",
    "ax.set_xlabel(r\"$\\lambda_k$\")\n",
    "ax.set_title(r\"Eigenvalues\", fontsize = 10)\n",
    "ax.legend()\n",
    "\n",
    "\n",
    "plt.subplots_adjust(left=0, bottom=0, right=1, top=1, wspace=0.5, hspace=0)\n",
    "#fig.savefig('figures/molecule_eigenvalues.pdf', format='pdf', dpi=900, bbox_inches='tight')"
   ]
  },
  {
   "cell_type": "code",
   "execution_count": 56,
   "id": "ec77fd49",
   "metadata": {},
   "outputs": [
    {
     "data": {
      "image/png": "[encoded data removed]",
      "text/plain": [
       "<Figure size 393.701x314.961 with 2 Axes>"
      ]
     },
     "metadata": {},
     "output_type": "display_data"
    }
   ],
   "source": [
    "fig = plt.figure(figsize=(10*in2cm, 8*in2cm))\n",
    "\n",
    "ax = fig.add_subplot(1, 2,1)\n",
    "ax.plot(evecs1[:,1], 'b',   label = \"System 1\")\n",
    "ax.set_xlabel(r\"state\")\n",
    "ax.set_title(r\"Eigenvectors $Q_1$\", fontsize = 10)\n",
    "\n",
    "ax = fig.add_subplot(1, 2, 2)\n",
    "ax.plot(evecs2[:,1], 'r',   label = \"System 2\")\n",
    "ax.set_xlabel(r\"state\")\n",
    "ax.set_title(r\"Eigenvectors $Q_2$\", fontsize = 10)\n",
    "\n",
    "#ax = fig.add_subplot(1, 3, 3)\n",
    "#ax.plot(np.abs(evecs[:,0]),  'g', label = \"Coupled\")\n",
    "\n",
    "\n",
    "plt.subplots_adjust(left=0, bottom=0, right=1, top=1, wspace=0.5, hspace=0)\n",
    "#fig.savefig('figures/molecule_eigenvectors.pdf', format='pdf', dpi=900, bbox_inches='tight')"
   ]
  },
  {
   "cell_type": "code",
   "execution_count": 57,
   "id": "29d5fb8b",
   "metadata": {},
   "outputs": [],
   "source": [
    "gg = np.zeros(Nbins1*Nbins2)\n"
   ]
  },
  {
   "cell_type": "code",
   "execution_count": 58,
   "id": "59bce8d0",
   "metadata": {},
   "outputs": [
    {
     "name": "stdout",
     "output_type": "stream",
     "text": [
      "100000\n",
      "10000\n"
     ]
    }
   ],
   "source": [
    "print(Nbins1)\n",
    "print(Nbins2)"
   ]
  },
  {
   "cell_type": "code",
   "execution_count": null,
   "id": "b10a541d",
   "metadata": {},
   "outputs": [],
   "source": []
  },
  {
   "cell_type": "code",
   "execution_count": null,
   "id": "1fe1c3a9",
   "metadata": {},
   "outputs": [],
   "source": []
  },
  {
   "cell_type": "code",
   "execution_count": null,
   "id": "03af0c8a",
   "metadata": {},
   "outputs": [],
   "source": []
  },
  {
   "cell_type": "code",
   "execution_count": null,
   "id": "f80c58dd",
   "metadata": {},
   "outputs": [],
   "source": []
  },
  {
   "cell_type": "raw",
   "id": "5a025a53",
   "metadata": {},
   "source": [
    "## FULL DIMENSIONS\n",
    "a = 5\n",
    "xcenters, xedges, xbins, dx = grid1(-a, a, 4)\n",
    "\n",
    "grid = np.meshgrid(xcenters, xcenters, xcenters, xcenters, xcenters, xcenters)\n",
    "X  = np.array([[grid[0].flatten('C'), \\\n",
    "                grid[1].flatten('C'), \\\n",
    "                grid[2].flatten('C')], \\\n",
    "               [grid[3].flatten('C'), \\\n",
    "                grid[4].flatten('C'), \\\n",
    "                grid[5].flatten('C')]]).T\n"
   ]
  }
 ],
 "metadata": {
  "kernelspec": {
   "display_name": "Python 3 (ipykernel)",
   "language": "python",
   "name": "python3"
  },
  "language_info": {
   "codemirror_mode": {
    "name": "ipython",
    "version": 3
   },
   "file_extension": ".py",
   "mimetype": "text/x-python",
   "name": "python",
   "nbconvert_exporter": "python",
   "pygments_lexer": "ipython3",
   "version": "3.9.2"
  }
 },
 "nbformat": 4,
 "nbformat_minor": 5
}
